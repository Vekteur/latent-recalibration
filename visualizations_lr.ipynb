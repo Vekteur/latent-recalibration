{
 "cells": [
  {
   "cell_type": "markdown",
   "metadata": {},
   "source": [
    "## Visualizations of Latent Recalibration"
   ]
  },
  {
   "cell_type": "code",
   "execution_count": null,
   "metadata": {},
   "outputs": [],
   "source": [
    "%load_ext autoreload\n",
    "%autoreload 2\n",
    "\n",
    "from pathlib import Path\n",
    "\n",
    "from moc.analysis.dataframes import load_config\n",
    "from moc.analysis.plot_recalibration import plot_densities_real_datasets, plot_density_estimation\n",
    "from moc.utils import savefig, set_notebook_options\n",
    "from moc.utils.general import seed_everything\n",
    "\n",
    "name = 'lr'\n",
    "path = Path('results') / name\n",
    "path.mkdir(exist_ok=True, parents=True)\n",
    "seed_everything(0)\n",
    "set_notebook_options()\n",
    "\n",
    "config = load_config(Path('logs') / name)"
   ]
  },
  {
   "cell_type": "markdown",
   "metadata": {},
   "source": [
    "## Density estimation for the calibration map"
   ]
  },
  {
   "cell_type": "code",
   "execution_count": null,
   "metadata": {},
   "outputs": [],
   "source": [
    "plot_density_estimation(config, density_estimator='kde')\n",
    "savefig(path / 'density_estimation' / 'kde.pdf')"
   ]
  },
  {
   "cell_type": "code",
   "execution_count": null,
   "metadata": {},
   "outputs": [],
   "source": [
    "plot_density_estimation(config, density_estimator='spline')\n",
    "savefig(path / 'density_estimation' / 'spline.pdf')"
   ]
  },
  {
   "cell_type": "markdown",
   "metadata": {},
   "source": [
    "## Recalibrated density plots"
   ]
  },
  {
   "cell_type": "code",
   "execution_count": null,
   "metadata": {},
   "outputs": [],
   "source": [
    "datasets_2d_1 = ['edm', 'enb', 'ansur2', 'births1', 'wage', 'meps_21', 'bio', 'blog_data', 'calcofi', 'taxi']\n",
    "repeats = 2\n",
    "\n",
    "plot_densities_real_datasets(config, datasets_2d_1, repeats, run_id=0)\n",
    "savefig(path / 'densities' / f'densities.pdf')"
   ]
  }
 ],
 "metadata": {
  "kernelspec": {
   "display_name": ".venv",
   "language": "python",
   "name": "python3"
  },
  "language_info": {
   "codemirror_mode": {
    "name": "ipython",
    "version": 3
   },
   "file_extension": ".py",
   "mimetype": "text/x-python",
   "name": "python",
   "nbconvert_exporter": "python",
   "pygments_lexer": "ipython3",
   "version": "3.13.2"
  }
 },
 "nbformat": 4,
 "nbformat_minor": 2
}
